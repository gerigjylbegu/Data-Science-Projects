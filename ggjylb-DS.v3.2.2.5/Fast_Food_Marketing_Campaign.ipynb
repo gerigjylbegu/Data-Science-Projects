{
 "cells": [
  {
   "cell_type": "markdown",
   "id": "6e78fbdb",
   "metadata": {},
   "source": [
    "# Fast Food Marketing Campaign A/B Testing\n",
    "\n",
    "## About the dataset\n",
    "\n",
    "### Scenario\n",
    "A fast-food chain plans to add a new item to its menu. However, they are still undecided between three possible marketing campaigns for promoting the new product. In order to determine which promotion has the greatest effect on sales, the new item is introduced at locations in several randomly selected markets. A different promotion is used at each location, and the weekly sales of the new item are recorded for the first four weeks.\n",
    "\n",
    "### Goal\n",
    "The goal of this notebook is to evaluate the dataset using A/B Testing and determine which marketing strategy works best.\n",
    "\n",
    "### Columns\n",
    "\n",
    "- MarketID: unique identifier for market\n",
    "- MarketSize: size of market area by sales\n",
    "- LocationID: unique identifier for store location\n",
    "- AgeOfStore: age of store in years\n",
    "- Promotion: one of three promotions that were tested\n",
    "- week: one of four weeks when the promotions were run\n",
    "- SalesInThousands: sales amount for a specific LocationID, Promotion, and week\n",
    "\n",
    "### Analysis Overview\n",
    "\n",
    "- **Data Pre-processing**\n",
    "- **Exploratory Data Analysis**\n",
    "- **Checking test assumptions**\n",
    "- **A/B test**\n",
    "- **Consideration of confounding variables**\n",
    "- **Conclusion**\n",
    "\n",
    "## Methodology and Metric\n",
    "\n",
    "The method of analysis used in this notebook is A/B testing. The latter is a form of Hypothesis testing, but specifically carried out to compare versions of a single variable to determine which version performs better based on a predefined metric/goal. Usually we use it to compare only two versions (A and B) hence the name A/B test, but in our dataset we have 3 different versions of the variable (marketing campaign for the new product). \n",
    "\n",
    "In this case, since there are 3 variants, we will use what is called **ANOVA (Analysis of Variance)** to determine which one of the three campaigns is better for advertising the new product. Considering the columns present in the dataset, the *metric* to be used will be **\"SalesInThousands\"** in that the better marketing strategy will provide the highest sales out of them all.\n",
    "\n",
    "*The significance level for all of the hypothesis tests will be 5% (0.05).*\n",
    "\n",
    "- The null hypothesis (H_0): There is no difference in the means of the three groups (i.e., the three marketing campaigns). \n",
    "- The alternative hypothesis (H_A): At least one of the means is different from the others. \n",
    "\n",
    "If we reject the null hypothesis, we can conclude that at least one of the marketing campaigns is more effective than the others."
   ]
  },
  {
   "cell_type": "code",
   "execution_count": null,
   "id": "4fe1f184",
   "metadata": {},
   "outputs": [],
   "source": [
    "import numpy as np\n",
    "import pandas as pd\n",
    "import matplotlib.pyplot as plt\n",
    "import seaborn as sns\n",
    "import plotly.express as px\n",
    "import plotly.io as pio\n",
    "import scipy.stats as stats\n",
    "import statsmodels.api as sm\n",
    "from statsmodels.stats.multicomp import MultiComparison\n",
    "import warnings\n",
    "\n",
    "warnings.filterwarnings(\"ignore\")\n",
    "pio.renderers.default = \"svg\""
   ]
  },
  {
   "cell_type": "code",
   "execution_count": 2,
   "id": "38063345",
   "metadata": {},
   "outputs": [
    {
     "data": {
      "text/html": [
       "<div>\n",
       "<style scoped>\n",
       "    .dataframe tbody tr th:only-of-type {\n",
       "        vertical-align: middle;\n",
       "    }\n",
       "\n",
       "    .dataframe tbody tr th {\n",
       "        vertical-align: top;\n",
       "    }\n",
       "\n",
       "    .dataframe thead th {\n",
       "        text-align: right;\n",
       "    }\n",
       "</style>\n",
       "<table border=\"1\" class=\"dataframe\">\n",
       "  <thead>\n",
       "    <tr style=\"text-align: right;\">\n",
       "      <th></th>\n",
       "      <th>MarketID</th>\n",
       "      <th>MarketSize</th>\n",
       "      <th>LocationID</th>\n",
       "      <th>AgeOfStore</th>\n",
       "      <th>Promotion</th>\n",
       "      <th>week</th>\n",
       "      <th>SalesInThousands</th>\n",
       "    </tr>\n",
       "  </thead>\n",
       "  <tbody>\n",
       "    <tr>\n",
       "      <th>0</th>\n",
       "      <td>1</td>\n",
       "      <td>Medium</td>\n",
       "      <td>1</td>\n",
       "      <td>4</td>\n",
       "      <td>3</td>\n",
       "      <td>1</td>\n",
       "      <td>33.73</td>\n",
       "    </tr>\n",
       "    <tr>\n",
       "      <th>1</th>\n",
       "      <td>1</td>\n",
       "      <td>Medium</td>\n",
       "      <td>1</td>\n",
       "      <td>4</td>\n",
       "      <td>3</td>\n",
       "      <td>2</td>\n",
       "      <td>35.67</td>\n",
       "    </tr>\n",
       "    <tr>\n",
       "      <th>2</th>\n",
       "      <td>1</td>\n",
       "      <td>Medium</td>\n",
       "      <td>1</td>\n",
       "      <td>4</td>\n",
       "      <td>3</td>\n",
       "      <td>3</td>\n",
       "      <td>29.03</td>\n",
       "    </tr>\n",
       "    <tr>\n",
       "      <th>3</th>\n",
       "      <td>1</td>\n",
       "      <td>Medium</td>\n",
       "      <td>1</td>\n",
       "      <td>4</td>\n",
       "      <td>3</td>\n",
       "      <td>4</td>\n",
       "      <td>39.25</td>\n",
       "    </tr>\n",
       "    <tr>\n",
       "      <th>4</th>\n",
       "      <td>1</td>\n",
       "      <td>Medium</td>\n",
       "      <td>2</td>\n",
       "      <td>5</td>\n",
       "      <td>2</td>\n",
       "      <td>1</td>\n",
       "      <td>27.81</td>\n",
       "    </tr>\n",
       "  </tbody>\n",
       "</table>\n",
       "</div>"
      ],
      "text/plain": [
       "   MarketID MarketSize  LocationID  AgeOfStore  Promotion  week  \\\n",
       "0         1     Medium           1           4          3     1   \n",
       "1         1     Medium           1           4          3     2   \n",
       "2         1     Medium           1           4          3     3   \n",
       "3         1     Medium           1           4          3     4   \n",
       "4         1     Medium           2           5          2     1   \n",
       "\n",
       "   SalesInThousands  \n",
       "0             33.73  \n",
       "1             35.67  \n",
       "2             29.03  \n",
       "3             39.25  \n",
       "4             27.81  "
      ]
     },
     "execution_count": 2,
     "metadata": {},
     "output_type": "execute_result"
    }
   ],
   "source": [
    "df = pd.read_csv(\"datasets/WA_Marketing-Campaign.csv\")\n",
    "\n",
    "df.head()"
   ]
  },
  {
   "cell_type": "markdown",
   "id": "f87b0cf3",
   "metadata": {},
   "source": [
    "### Data pre-processing\n",
    "\n",
    "I will be checking the datatypes and converting them to more appropriate formats for the analysis."
   ]
  },
  {
   "cell_type": "code",
   "execution_count": 3,
   "id": "1886e4f4",
   "metadata": {},
   "outputs": [
    {
     "name": "stdout",
     "output_type": "stream",
     "text": [
      "<class 'pandas.core.frame.DataFrame'>\n",
      "RangeIndex: 548 entries, 0 to 547\n",
      "Data columns (total 7 columns):\n",
      " #   Column            Non-Null Count  Dtype  \n",
      "---  ------            --------------  -----  \n",
      " 0   MarketID          548 non-null    int64  \n",
      " 1   MarketSize        548 non-null    object \n",
      " 2   LocationID        548 non-null    int64  \n",
      " 3   AgeOfStore        548 non-null    int64  \n",
      " 4   Promotion         548 non-null    int64  \n",
      " 5   week              548 non-null    int64  \n",
      " 6   SalesInThousands  548 non-null    float64\n",
      "dtypes: float64(1), int64(5), object(1)\n",
      "memory usage: 30.1+ KB\n"
     ]
    }
   ],
   "source": [
    "df.info()"
   ]
  },
  {
   "cell_type": "markdown",
   "id": "4278a51f",
   "metadata": {},
   "source": [
    "From the info table we can see that the data types for the \"MarketID\", \"LocationID\", \"Promotion\", \"week\" are integers. However, these columns contain infromation that makes more sense categorically then numerically. Therefore, I will convert them to categorical data. Furthermore, each column contains 548 data points, none of which are null."
   ]
  },
  {
   "cell_type": "code",
   "execution_count": 4,
   "id": "e849ca37",
   "metadata": {},
   "outputs": [
    {
     "name": "stdout",
     "output_type": "stream",
     "text": [
      "<class 'pandas.core.frame.DataFrame'>\n",
      "RangeIndex: 548 entries, 0 to 547\n",
      "Data columns (total 7 columns):\n",
      " #   Column            Non-Null Count  Dtype   \n",
      "---  ------            --------------  -----   \n",
      " 0   MarketID          548 non-null    category\n",
      " 1   MarketSize        548 non-null    object  \n",
      " 2   LocationID        548 non-null    category\n",
      " 3   AgeOfStore        548 non-null    int64   \n",
      " 4   Promotion         548 non-null    category\n",
      " 5   week              548 non-null    category\n",
      " 6   SalesInThousands  548 non-null    float64 \n",
      "dtypes: category(4), float64(1), int64(1), object(1)\n",
      "memory usage: 21.5+ KB\n"
     ]
    }
   ],
   "source": [
    "for i in [\"MarketID\", \"LocationID\", \"Promotion\", \"week\"]:\n",
    "    df[i] = df[i].astype(\"category\")\n",
    "\n",
    "df.info()"
   ]
  },
  {
   "cell_type": "code",
   "execution_count": 5,
   "id": "310d75d6",
   "metadata": {},
   "outputs": [
    {
     "data": {
      "text/plain": [
       "MarketID             10\n",
       "MarketSize            3\n",
       "LocationID          137\n",
       "AgeOfStore           25\n",
       "Promotion             3\n",
       "week                  4\n",
       "SalesInThousands    517\n",
       "dtype: int64"
      ]
     },
     "execution_count": 5,
     "metadata": {},
     "output_type": "execute_result"
    }
   ],
   "source": [
    "df.nunique()"
   ]
  },
  {
   "cell_type": "code",
   "execution_count": 6,
   "id": "b7238fdb",
   "metadata": {},
   "outputs": [
    {
     "data": {
      "text/plain": [
       "np.int64(0)"
      ]
     },
     "execution_count": 6,
     "metadata": {},
     "output_type": "execute_result"
    }
   ],
   "source": [
    "df.duplicated().sum()"
   ]
  },
  {
   "cell_type": "markdown",
   "id": "2cc7b4a1",
   "metadata": {},
   "source": [
    "There are also no duplicate data in the dataset, which means that the information in each row is unique."
   ]
  },
  {
   "cell_type": "markdown",
   "id": "87d0f8bb",
   "metadata": {},
   "source": [
    "Now let's explore the two numerical columns we have, focusing first on AgeOfStore:"
   ]
  },
  {
   "cell_type": "code",
   "execution_count": 7,
   "id": "01511e92",
   "metadata": {},
   "outputs": [
    {
     "data": {
      "text/html": [
       "<div>\n",
       "<style scoped>\n",
       "    .dataframe tbody tr th:only-of-type {\n",
       "        vertical-align: middle;\n",
       "    }\n",
       "\n",
       "    .dataframe tbody tr th {\n",
       "        vertical-align: top;\n",
       "    }\n",
       "\n",
       "    .dataframe thead th {\n",
       "        text-align: right;\n",
       "    }\n",
       "</style>\n",
       "<table border=\"1\" class=\"dataframe\">\n",
       "  <thead>\n",
       "    <tr style=\"text-align: right;\">\n",
       "      <th></th>\n",
       "      <th>AgeOfStore</th>\n",
       "      <th>SalesInThousands</th>\n",
       "    </tr>\n",
       "  </thead>\n",
       "  <tbody>\n",
       "    <tr>\n",
       "      <th>count</th>\n",
       "      <td>548.000000</td>\n",
       "      <td>548.000000</td>\n",
       "    </tr>\n",
       "    <tr>\n",
       "      <th>mean</th>\n",
       "      <td>8.503650</td>\n",
       "      <td>53.466204</td>\n",
       "    </tr>\n",
       "    <tr>\n",
       "      <th>std</th>\n",
       "      <td>6.638345</td>\n",
       "      <td>16.755216</td>\n",
       "    </tr>\n",
       "    <tr>\n",
       "      <th>min</th>\n",
       "      <td>1.000000</td>\n",
       "      <td>17.340000</td>\n",
       "    </tr>\n",
       "    <tr>\n",
       "      <th>25%</th>\n",
       "      <td>4.000000</td>\n",
       "      <td>42.545000</td>\n",
       "    </tr>\n",
       "    <tr>\n",
       "      <th>50%</th>\n",
       "      <td>7.000000</td>\n",
       "      <td>50.200000</td>\n",
       "    </tr>\n",
       "    <tr>\n",
       "      <th>75%</th>\n",
       "      <td>12.000000</td>\n",
       "      <td>60.477500</td>\n",
       "    </tr>\n",
       "    <tr>\n",
       "      <th>max</th>\n",
       "      <td>28.000000</td>\n",
       "      <td>99.650000</td>\n",
       "    </tr>\n",
       "  </tbody>\n",
       "</table>\n",
       "</div>"
      ],
      "text/plain": [
       "       AgeOfStore  SalesInThousands\n",
       "count  548.000000        548.000000\n",
       "mean     8.503650         53.466204\n",
       "std      6.638345         16.755216\n",
       "min      1.000000         17.340000\n",
       "25%      4.000000         42.545000\n",
       "50%      7.000000         50.200000\n",
       "75%     12.000000         60.477500\n",
       "max     28.000000         99.650000"
      ]
     },
     "execution_count": 7,
     "metadata": {},
     "output_type": "execute_result"
    }
   ],
   "source": [
    "df[[\"AgeOfStore\", \"SalesInThousands\"]].describe()"
   ]
  },
  {
   "cell_type": "code",
   "execution_count": 8,
   "id": "07e52535",
   "metadata": {},
   "outputs": [
    {
     "data": {
      "text/plain": [
       "Text(0, 0.5, 'Count')"
      ]
     },
     "execution_count": 8,
     "metadata": {},
     "output_type": "execute_result"
    },
    {
     "data": {
      "image/png": "[encoded data removed]",
      "text/plain": [
       "<Figure size 640x480 with 1 Axes>"
      ]
     },
     "metadata": {},
     "output_type": "display_data"
    }
   ],
   "source": [
    "sns.histplot(df[\"AgeOfStore\"], bins=df.AgeOfStore.nunique(), stat=\"count\")\n",
    "plt.title(\"Age of Store Distribution\")\n",
    "plt.xlabel(\"Age of Store\")\n",
    "plt.ylabel(\"Count\")"
   ]
  },
  {
   "cell_type": "markdown",
   "id": "e1f214db",
   "metadata": {},
   "source": [
    "From the description table and the histplot above, I would say that the AgeOfStore does not really seem to provide any useful information for us as a numerical variable. To know more, I will need to see if there is any correlation between this column and the SalesInThousands column:"
   ]
  },
  {
   "cell_type": "code",
   "execution_count": 9,
   "id": "defe50ab",
   "metadata": {},
   "outputs": [
    {
     "data": {
      "text/plain": [
       "Text(0, 0.5, 'Sales in Thousands')"
      ]
     },
     "execution_count": 9,
     "metadata": {},
     "output_type": "execute_result"
    },
    {
     "data": {
      "image/png": "[encoded data removed]",
      "text/plain": [
       "<Figure size 640x480 with 1 Axes>"
      ]
     },
     "metadata": {},
     "output_type": "display_data"
    }
   ],
   "source": [
    "sns.scatterplot(data=df, x=\"AgeOfStore\", y=\"SalesInThousands\")\n",
    "plt.title(\"Sales in Thousands vs Age of Store\")\n",
    "plt.xlabel(\"Age of Store\")\n",
    "plt.ylabel(\"Sales in Thousands\")"
   ]
  },
  {
   "cell_type": "code",
   "execution_count": 10,
   "id": "82bf37e0",
   "metadata": {},
   "outputs": [
    {
     "data": {
      "text/plain": [
       "PearsonRResult(statistic=np.float64(-0.028532881102495675), pvalue=np.float64(0.5050607939715022))"
      ]
     },
     "execution_count": 10,
     "metadata": {},
     "output_type": "execute_result"
    }
   ],
   "source": [
    "stats.pearsonr(df.AgeOfStore, df.SalesInThousands)"
   ]
  },
  {
   "cell_type": "markdown",
   "id": "8d95ba49",
   "metadata": {},
   "source": [
    "From both the scatterplot and pearson correlation test above, we can see that it is highly unlikely that the age of the store is correlated with the sales. Therefore, it would be better to consider the store age not as a numerical variable but rather as a categorical one, where we group the stores in 3 age categories new, mature, and old stores:"
   ]
  },
  {
   "cell_type": "code",
   "execution_count": 11,
   "id": "fa209679",
   "metadata": {},
   "outputs": [],
   "source": [
    "df[\"store_age\"] = pd.qcut(df.AgeOfStore, 3, labels=[\"new\", \"mature\", \"old\"])"
   ]
  },
  {
   "cell_type": "markdown",
   "id": "b86623b3",
   "metadata": {},
   "source": [
    "## EDA\n",
    "\n",
    "In this section, I will focus on understanding the variables both individually and comparatively (Avarage sales by age group, Avarage sales by promotion strategy, Avarage sales by MarketSize). \n",
    "\n",
    "I will also perform a chi squared test to understand if there is any sample ratio mismatch (SRM) in the three promotion variances considering the distribution of the datapoints within the 3 groups."
   ]
  },
  {
   "cell_type": "code",
   "execution_count": 12,
   "id": "9381f8fb",
   "metadata": {},
   "outputs": [
    {
     "data": {
      "application/vnd.plotly.v1+json": {
       "config": {
        "plotlyServerURL": "https://plot.ly"
       },
       "data": [
        {
         "hovertemplate": "Promotion=%{x}<br>Percentage=%{text}<extra></extra>",
         "legendgroup": "",
         "marker": {
          "color": "#636efa",
          "pattern": {
           "shape": ""
          }
         },
         "name": "",
         "orientation": "v",
         "showlegend": false,
         "text": {
          "bdata": "pHA9CtdjP0BI4XoUridBQEjhehSuJ0FA",
          "dtype": "f8"
         },
         "textposition": "auto",
         "type": "bar",
         "x": {
          "bdata": "AQID",
          "dtype": "i1"
         },
         "xaxis": "x",
         "y": {
          "bdata": "pHA9CtdjP0BI4XoUridBQEjhehSuJ0FA",
          "dtype": "f8"
         },
         "yaxis": "y"
        }
       ],
       "layout": {
        "barmode": "relative",
        "legend": {
         "tracegroupgap": 0
        },
        "template": {
         "data": {
          "bar": [
           {
            "error_x": {
             "color": "#2a3f5f"
            },
            "error_y": {
             "color": "#2a3f5f"
            },
            "marker": {
             "line": {
              "color": "#E5ECF6",
              "width": 0.5
             },
             "pattern": {
              "fillmode": "overlay",
              "size": 10,
              "solidity": 0.2
             }
            },
            "type": "bar"
           }
          ],
          "barpolar": [
           {
            "marker": {
             "line": {
              "color": "#E5ECF6",
              "width": 0.5
             },
             "pattern": {
              "fillmode": "overlay",
              "size": 10,
              "solidity": 0.2
             }
            },
            "type": "barpolar"
           }
          ],
          "carpet": [
           {
            "aaxis": {
             "endlinecolor": "#2a3f5f",
             "gridcolor": "white",
             "linecolor": "white",
             "minorgridcolor": "white",
             "startlinecolor": "#2a3f5f"
            },
            "baxis": {
             "endlinecolor": "#2a3f5f",
             "gridcolor": "white",
             "linecolor": "white",
             "minorgridcolor": "white",
             "startlinecolor": "#2a3f5f"
            },
            "type": "carpet"
           }
          ],
          "choropleth": [
           {
            "colorbar": {
             "outlinewidth": 0,
             "ticks": ""
            },
            "type": "choropleth"
           }
          ],
          "contour": [
           {
            "colorbar": {
             "outlinewidth": 0,
             "ticks": ""
            },
            "colorscale": [
             [
              0,
              "#0d0887"
             ],
             [
              0.1111111111111111,
              "#46039f"
             ],
             [
              0.2222222222222222,
              "#7201a8"
             ],
             [
              0.3333333333333333,
              "#9c179e"
             ],
             [
              0.4444444444444444,
              "#bd3786"
             ],
             [
              0.5555555555555556,
              "#d8576b"
             ],
             [
              0.6666666666666666,
              "#ed7953"
             ],
             [
              0.7777777777777778,
              "#fb9f3a"
             ],
             [
              0.8888888888888888,
              "#fdca26"
             ],
             [
              1,
              "#f0f921"
             ]
            ],
            "type": "contour"
           }
          ],
          "contourcarpet": [
           {
            "colorbar": {
             "outlinewidth": 0,
             "ticks": ""
            },
            "type": "contourcarpet"
           }
          ],
          "heatmap": [
           {
            "colorbar": {
             "outlinewidth": 0,
             "ticks": ""
            },
            "colorscale": [
             [
              0,
              "#0d0887"
             ],
             [
              0.1111111111111111,
              "#46039f"
             ],
             [
              0.2222222222222222,
              "#7201a8"
             ],
             [
              0.3333333333333333,
              "#9c179e"
             ],
             [
              0.4444444444444444,
              "#bd3786"
             ],
             [
              0.5555555555555556,
              "#d8576b"
             ],
             [
              0.6666666666666666,
              "#ed7953"
             ],
             [
              0.7777777777777778,
              "#fb9f3a"
             ],
             [
              0.8888888888888888,
              "#fdca26"
             ],
             [
              1,
              "#f0f921"
             ]
            ],
            "type": "heatmap"
           }
          ],
          "histogram": [
           {
            "marker": {
             "pattern": {
              "fillmode": "overlay",
              "size": 10,
              "solidity": 0.2
             }
            },
            "type": "histogram"
           }
          ],
          "histogram2d": [
           {
            "colorbar": {
             "outlinewidth": 0,
             "ticks": ""
            },
            "colorscale": [
             [
              0,
              "#0d0887"
             ],
             [
              0.1111111111111111,
              "#46039f"
             ],
             [
              0.2222222222222222,
              "#7201a8"
             ],
             [
              0.3333333333333333,
              "#9c179e"
             ],
             [
              0.4444444444444444,
              "#bd3786"
             ],
             [
              0.5555555555555556,
              "#d8576b"
             ],
             [
              0.6666666666666666,
              "#ed7953"
             ],
             [
              0.7777777777777778,
              "#fb9f3a"
             ],
             [
              0.8888888888888888,
              "#fdca26"
             ],
             [
              1,
              "#f0f921"
             ]
            ],
            "type": "histogram2d"
           }
          ],
          "histogram2dcontour": [
           {
            "colorbar": {
             "outlinewidth": 0,
             "ticks": ""
            },
            "colorscale": [
             [
              0,
              "#0d0887"
             ],
             [
              0.1111111111111111,
              "#46039f"
             ],
             [
              0.2222222222222222,
              "#7201a8"
             ],
             [
              0.3333333333333333,
              "#9c179e"
             ],
             [
              0.4444444444444444,
              "#bd3786"
             ],
             [
              0.5555555555555556,
              "#d8576b"
             ],
             [
              0.6666666666666666,
              "#ed7953"
             ],
             [
              0.7777777777777778,
              "#fb9f3a"
             ],
             [
              0.8888888888888888,
              "#fdca26"
             ],
             [
              1,
              "#f0f921"
             ]
            ],
            "type": "histogram2dcontour"
           }
          ],
          "mesh3d": [
           {
            "colorbar": {
             "outlinewidth": 0,
             "ticks": ""
            },
            "type": "mesh3d"
           }
          ],
          "parcoords": [
           {
            "line": {
             "colorbar": {
              "outlinewidth": 0,
              "ticks": ""
             }
            },
            "type": "parcoords"
           }
          ],
          "pie": [
           {
            "automargin": true,
            "type": "pie"
           }
          ],
          "scatter": [
           {
            "fillpattern": {
             "fillmode": "overlay",
             "size": 10,
             "solidity": 0.2
            },
            "type": "scatter"
           }
          ],
          "scatter3d": [
           {
            "line": {
             "colorbar": {
              "outlinewidth": 0,
              "ticks": ""
             }
            },
            "marker": {
             "colorbar": {
              "outlinewidth": 0,
              "ticks": ""
             }
            },
            "type": "scatter3d"
           }
          ],
          "scattercarpet": [
           {
            "marker": {
             "colorbar": {
              "outlinewidth": 0,
              "ticks": ""
             }
            },
            "type": "scattercarpet"
           }
          ],
          "scattergeo": [
           {
            "marker": {
             "colorbar": {
              "outlinewidth": 0,
              "ticks": ""
             }
            },
            "type": "scattergeo"
           }
          ],
          "scattergl": [
           {
            "marker": {
             "colorbar": {
              "outlinewidth": 0,
              "ticks": ""
             }
            },
            "type": "scattergl"
           }
          ],
          "scattermap": [
           {
            "marker": {
             "colorbar": {
              "outlinewidth": 0,
              "ticks": ""
             }
            },
            "type": "scattermap"
           }
          ],
          "scattermapbox": [
           {
            "marker": {
             "colorbar": {
              "outlinewidth": 0,
              "ticks": ""
             }
            },
            "type": "scattermapbox"
           }
          ],
          "scatterpolar": [
           {
            "marker": {
             "colorbar": {
              "outlinewidth": 0,
              "ticks": ""
             }
            },
            "type": "scatterpolar"
           }
          ],
          "scatterpolargl": [
           {
            "marker": {
             "colorbar": {
              "outlinewidth": 0,
              "ticks": ""
             }
            },
            "type": "scatterpolargl"
           }
          ],
          "scatterternary": [
           {
            "marker": {
             "colorbar": {
              "outlinewidth": 0,
              "ticks": ""
             }
            },
            "type": "scatterternary"
           }
          ],
          "surface": [
           {
            "colorbar": {
             "outlinewidth": 0,
             "ticks": ""
            },
            "colorscale": [
             [
              0,
              "#0d0887"
             ],
             [
              0.1111111111111111,
              "#46039f"
             ],
             [
              0.2222222222222222,
              "#7201a8"
             ],
             [
              0.3333333333333333,
              "#9c179e"
             ],
             [
              0.4444444444444444,
              "#bd3786"
             ],
             [
              0.5555555555555556,
              "#d8576b"
             ],
             [
              0.6666666666666666,
              "#ed7953"
             ],
             [
              0.7777777777777778,
              "#fb9f3a"
             ],
             [
              0.8888888888888888,
              "#fdca26"
             ],
             [
              1,
              "#f0f921"
             ]
            ],
            "type": "surface"
           }
          ],
          "table": [
           {
            "cells": {
             "fill": {
              "color": "#EBF0F8"
             },
             "line": {
              "color": "white"
             }
            },
            "header": {
             "fill": {
              "color": "#C8D4E3"
             },
             "line": {
              "color": "white"
             }
            },
            "type": "table"
           }
          ]
         },
         "layout": {
          "annotationdefaults": {
           "arrowcolor": "#2a3f5f",
           "arrowhead": 0,
           "arrowwidth": 1
          },
          "autotypenumbers": "strict",
          "coloraxis": {
           "colorbar": {
            "outlinewidth": 0,
            "ticks": ""
           }
          },
          "colorscale": {
           "diverging": [
            [
             0,
             "#8e0152"
            ],
            [
             0.1,
             "#c51b7d"
            ],
            [
             0.2,
             "#de77ae"
            ],
            [
             0.3,
             "#f1b6da"
            ],
            [
             0.4,
             "#fde0ef"
            ],
            [
             0.5,
             "#f7f7f7"
            ],
            [
             0.6,
             "#e6f5d0"
            ],
            [
             0.7,
             "#b8e186"
            ],
            [
             0.8,
             "#7fbc41"
            ],
            [
             0.9,
             "#4d9221"
            ],
            [
             1,
             "#276419"
            ]
           ],
           "sequential": [
            [
             0,
             "#0d0887"
            ],
            [
             0.1111111111111111,
             "#46039f"
            ],
            [
             0.2222222222222222,
             "#7201a8"
            ],
            [
             0.3333333333333333,
             "#9c179e"
            ],
            [
             0.4444444444444444,
             "#bd3786"
            ],
            [
             0.5555555555555556,
             "#d8576b"
            ],
            [
             0.6666666666666666,
             "#ed7953"
            ],
            [
             0.7777777777777778,
             "#fb9f3a"
            ],
            [
             0.8888888888888888,
             "#fdca26"
            ],
            [
             1,
             "#f0f921"
            ]
           ],
           "sequentialminus": [
            [
             0,
             "#0d0887"
            ],
            [
             0.1111111111111111,
             "#46039f"
            ],
            [
             0.2222222222222222,
             "#7201a8"
            ],
            [
             0.3333333333333333,
             "#9c179e"
            ],
            [
             0.4444444444444444,
             "#bd3786"
            ],
            [
             0.5555555555555556,
             "#d8576b"
            ],
            [
             0.6666666666666666,
             "#ed7953"
            ],
            [
             0.7777777777777778,
             "#fb9f3a"
            ],
            [
             0.8888888888888888,
             "#fdca26"
            ],
            [
             1,
             "#f0f921"
            ]
           ]
          },
          "colorway": [
           "#636efa",
           "#EF553B",
           "#00cc96",
           "#ab63fa",
           "#FFA15A",
           "#19d3f3",
           "#FF6692",
           "#B6E880",
           "#FF97FF",
           "#FECB52"
          ],
          "font": {
           "color": "#2a3f5f"
          },
          "geo": {
           "bgcolor": "white",
           "lakecolor": "white",
           "landcolor": "#E5ECF6",
           "showlakes": true,
           "showland": true,
           "subunitcolor": "white"
          },
          "hoverlabel": {
           "align": "left"
          },
          "hovermode": "closest",
          "mapbox": {
           "style": "light"
          },
          "paper_bgcolor": "white",
          "plot_bgcolor": "#E5ECF6",
          "polar": {
           "angularaxis": {
            "gridcolor": "white",
            "linecolor": "white",
            "ticks": ""
           },
           "bgcolor": "#E5ECF6",
           "radialaxis": {
            "gridcolor": "white",
            "linecolor": "white",
            "ticks": ""
           }
          },
          "scene": {
           "xaxis": {
            "backgroundcolor": "#E5ECF6",
            "gridcolor": "white",
            "gridwidth": 2,
            "linecolor": "white",
            "showbackground": true,
            "ticks": "",
            "zerolinecolor": "white"
           },
           "yaxis": {
            "backgroundcolor": "#E5ECF6",
            "gridcolor": "white",
            "gridwidth": 2,
            "linecolor": "white",
            "showbackground": true,
            "ticks": "",
            "zerolinecolor": "white"
           },
           "zaxis": {
            "backgroundcolor": "#E5ECF6",
            "gridcolor": "white",
            "gridwidth": 2,
            "linecolor": "white",
            "showbackground": true,
            "ticks": "",
            "zerolinecolor": "white"
           }
          },
          "shapedefaults": {
           "line": {
            "color": "#2a3f5f"
           }
          },
          "ternary": {
           "aaxis": {
            "gridcolor": "white",
            "linecolor": "white",
            "ticks": ""
           },
           "baxis": {
            "gridcolor": "white",
            "linecolor": "white",
            "ticks": ""
           },
           "bgcolor": "#E5ECF6",
           "caxis": {
            "gridcolor": "white",
            "linecolor": "white",
            "ticks": ""
           }
          },
          "title": {
           "x": 0.05
          },
          "xaxis": {
           "automargin": true,
           "gridcolor": "white",
           "linecolor": "white",
           "ticks": "",
           "title": {
            "standoff": 15
           },
           "zerolinecolor": "white",
           "zerolinewidth": 2
          },
          "yaxis": {
           "automargin": true,
           "gridcolor": "white",
           "linecolor": "white",
           "ticks": "",
           "title": {
            "standoff": 15
           },
           "zerolinecolor": "white",
           "zerolinewidth": 2
          }
         }
        },
        "title": {
         "text": "Promotion Distribution"
        },
        "xaxis": {
         "anchor": "y",
         "domain": [
          0,
          1
         ],
         "title": {
          "text": "Promotion"
         }
        },
        "yaxis": {
         "anchor": "x",
         "domain": [
          0,
          1
         ],
         "title": {
          "text": "Percentage"
         }
        }
       }
      }
     },
     "metadata": {},
     "output_type": "display_data"
    }
   ],
   "source": [
    "promo_count = (df.Promotion.value_counts(normalize=True) * 100).reset_index()\n",
    "promo_count.columns = [\"Promotion\", \"Percentage\"]\n",
    "promo_count.Percentage = promo_count.Percentage.round(2)\n",
    "promo_count.sort_values(\"Promotion\", inplace=True)\n",
    "\n",
    "px.bar(\n",
    "    promo_count,\n",
    "    x=\"Promotion\",\n",
    "    y=\"Percentage\",\n",
    "    text=\"Percentage\",\n",
    "    title=\"Promotion Distribution\",\n",
    ")"
   ]
  },
  {
   "cell_type": "code",
   "execution_count": 13,
   "id": "64716da0",
   "metadata": {},
   "outputs": [
    {
     "data": {
      "text/plain": [
       "Power_divergenceResult(statistic=np.float64(0.9343065693430658), pvalue=np.float64(0.6267840066678985))"
      ]
     },
     "execution_count": 13,
     "metadata": {},
     "output_type": "execute_result"
    }
   ],
   "source": [
    "stats.chisquare(df.groupby(\"Promotion\")[\"SalesInThousands\"].count())\n",
    "# p-value bigger than 0.05 therefore there is no significant SRM detected."
   ]
  },
  {
   "cell_type": "markdown",
   "id": "bdaa12e6",
   "metadata": {},
   "source": [
    "The barplot and chi2 test above show that there is no significant SRM and all three variants are almost equally represented in the dataset, so we can confidently say that our sample is balanced."
   ]
  },
  {
   "cell_type": "markdown",
   "id": "bca8bbe9",
   "metadata": {},
   "source": [
    "Next I would like to analyse the distribution of the metric itself, the sales in thousands column:"
   ]
  },
  {
   "cell_type": "code",
   "execution_count": 14,
   "id": "5e7387c8",
   "metadata": {},
   "outputs": [
    {
     "data": {
      "text/plain": [
       "<Axes: ylabel='SalesInThousands'>"
      ]
     },
     "execution_count": 14,
     "metadata": {},
     "output_type": "execute_result"
    },
    {
     "data": {
      "image/png": "[encoded data removed]",
      "text/plain": [
       "<Figure size 1200x500 with 2 Axes>"
      ]
     },
     "metadata": {},
     "output_type": "display_data"
    }
   ],
   "source": [
    "fig, (ax1, ax2) = plt.subplots(1, 2, figsize=(12, 5))\n",
    "\n",
    "sns.histplot(df, x=\"SalesInThousands\", ax=ax1, kde=True)\n",
    "ax1.axvline(df.SalesInThousands.median(), color=\"red\", ls=\"--\", label=\"Median\")\n",
    "ax1.axvline(df.SalesInThousands.mean(), color=\"black\", ls=\"-.\", label=\"Mean\")\n",
    "ax1.legend()\n",
    "\n",
    "sns.boxplot(data=df, y=\"SalesInThousands\", ax=ax2)"
   ]
  },
  {
   "cell_type": "markdown",
   "id": "652a2066",
   "metadata": {},
   "source": [
    "From the histogram above, we can see that Sales in Thousands does not follow a normal distribution (it resembles a bimodal distribution). The boxplot suggests that there is a considerable amount of outlier data as well."
   ]
  },
  {
   "cell_type": "code",
   "execution_count": 15,
   "id": "26005fb7",
   "metadata": {},
   "outputs": [
    {
     "data": {
      "application/vnd.plotly.v1+json": {
       "config": {
        "plotlyServerURL": "https://plot.ly"
       },
       "data": [
        {
         "hovertemplate": "store_age=%{x}<br>SalesInThousands=%{text}<extra></extra>",
         "legendgroup": "",
         "marker": {
          "color": "#636efa",
          "pattern": {
           "shape": ""
          }
         },
         "name": "",
         "orientation": "v",
         "showlegend": false,
         "text": {
          "bdata": "ikmrmLTqS0DACZzACZxIQOj7qfHSVUtA",
          "dtype": "f8"
         },
         "textposition": "auto",
         "texttemplate": "%{text:.2f}",
         "type": "bar",
         "x": [
          "new",
          "mature",
          "old"
         ],
         "xaxis": "x",
         "y": {
          "bdata": "ikmrmLTqS0DACZzACZxIQOj7qfHSVUtA",
          "dtype": "f8"
         },
         "yaxis": "y"
        }
       ],
       "layout": {
        "barmode": "relative",
        "legend": {
         "tracegroupgap": 0
        },
        "template": {
         "data": {
          "bar": [
           {
            "error_x": {
             "color": "#2a3f5f"
            },
            "error_y": {
             "color": "#2a3f5f"
            },
            "marker": {
             "line": {
              "color": "#E5ECF6",
              "width": 0.5
             },
             "pattern": {
              "fillmode": "overlay",
              "size": 10,
              "solidity": 0.2
             }
            },
            "type": "bar"
           }
          ],
          "barpolar": [
           {
            "marker": {
             "line": {
              "color": "#E5ECF6",
              "width": 0.5
             },
             "pattern": {
              "fillmode": "overlay",
              "size": 10,
              "solidity": 0.2
             }
            },
            "type": "barpolar"
           }
          ],
          "carpet": [
           {
            "aaxis": {
             "endlinecolor": "#2a3f5f",
             "gridcolor": "white",
             "linecolor": "white",
             "minorgridcolor": "white",
             "startlinecolor": "#2a3f5f"
            },
            "baxis": {
             "endlinecolor": "#2a3f5f",
             "gridcolor": "white",
             "linecolor": "white",
             "minorgridcolor": "white",
             "startlinecolor": "#2a3f5f"
            },
            "type": "carpet"
           }
          ],
          "choropleth": [
           {
            "colorbar": {
             "outlinewidth": 0,
             "ticks": ""
            },
            "type": "choropleth"
           }
          ],
          "contour": [
           {
            "colorbar": {
             "outlinewidth": 0,
             "ticks": ""
            },
            "colorscale": [
             [
              0,
              "#0d0887"
             ],
             [
              0.1111111111111111,
              "#46039f"
             ],
             [
              0.2222222222222222,
              "#7201a8"
             ],
             [
              0.3333333333333333,
              "#9c179e"
             ],
             [
              0.4444444444444444,
              "#bd3786"
             ],
             [
              0.5555555555555556,
              "#d8576b"
             ],
             [
              0.6666666666666666,
              "#ed7953"
             ],
             [
              0.7777777777777778,
              "#fb9f3a"
             ],
             [
              0.8888888888888888,
              "#fdca26"
             ],
             [
              1,
              "#f0f921"
             ]
            ],
            "type": "contour"
           }
          ],
          "contourcarpet": [
           {
            "colorbar": {
             "outlinewidth": 0,
             "ticks": ""
            },
            "type": "contourcarpet"
           }
          ],
          "heatmap": [
           {
            "colorbar": {
             "outlinewidth": 0,
             "ticks": ""
            },
            "colorscale": [
             [
              0,
              "#0d0887"
             ],
             [
              0.1111111111111111,
              "#46039f"
             ],
             [
              0.2222222222222222,
              "#7201a8"
             ],
             [
              0.3333333333333333,
              "#9c179e"
             ],
             [
              0.4444444444444444,
              "#bd3786"
             ],
             [
              0.5555555555555556,
              "#d8576b"
             ],
             [
              0.6666666666666666,
              "#ed7953"
             ],
             [
              0.7777777777777778,
              "#fb9f3a"
             ],
             [
              0.8888888888888888,
              "#fdca26"
             ],
             [
              1,
              "#f0f921"
             ]
            ],
            "type": "heatmap"
           }
          ],
          "histogram": [
           {
            "marker": {
             "pattern": {
              "fillmode": "overlay",
              "size": 10,
              "solidity": 0.2
             }
            },
            "type": "histogram"
           }
          ],
          "histogram2d": [
           {
            "colorbar": {
             "outlinewidth": 0,
             "ticks": ""
            },
            "colorscale": [
             [
              0,
              "#0d0887"
             ],
             [
              0.1111111111111111,
              "#46039f"
             ],
             [
              0.2222222222222222,
              "#7201a8"
             ],
             [
              0.3333333333333333,
              "#9c179e"
             ],
             [
              0.4444444444444444,
              "#bd3786"
             ],
             [
              0.5555555555555556,
              "#d8576b"
             ],
             [
              0.6666666666666666,
              "#ed7953"
             ],
             [
              0.7777777777777778,
              "#fb9f3a"
             ],
             [
              0.8888888888888888,
              "#fdca26"
             ],
             [
              1,
              "#f0f921"
             ]
            ],
            "type": "histogram2d"
           }
          ],
          "histogram2dcontour": [
           {
            "colorbar": {
             "outlinewidth": 0,
             "ticks": ""
            },
            "colorscale": [
             [
              0,
              "#0d0887"
             ],
             [
              0.1111111111111111,
              "#46039f"
             ],
             [
              0.2222222222222222,
              "#7201a8"
             ],
             [
              0.3333333333333333,
              "#9c179e"
             ],
             [
              0.4444444444444444,
              "#bd3786"
             ],
             [
              0.5555555555555556,
              "#d8576b"
             ],
             [
              0.6666666666666666,
              "#ed7953"
             ],
             [
              0.7777777777777778,
              "#fb9f3a"
             ],
             [
              0.8888888888888888,
              "#fdca26"
             ],
             [
              1,
              "#f0f921"
             ]
            ],
            "type": "histogram2dcontour"
           }
          ],
          "mesh3d": [
           {
            "colorbar": {
             "outlinewidth": 0,
             "ticks": ""
            },
            "type": "mesh3d"
           }
          ],
          "parcoords": [
           {
            "line": {
             "colorbar": {
              "outlinewidth": 0,
              "ticks": ""
             }
            },
            "type": "parcoords"
           }
          ],
          "pie": [
           {
            "automargin": true,
            "type": "pie"
           }
          ],
          "scatter": [
           {
            "fillpattern": {
             "fillmode": "overlay",
             "size": 10,
             "solidity": 0.2
            },
            "type": "scatter"
           }
          ],
          "scatter3d": [
           {
            "line": {
             "colorbar": {
              "outlinewidth": 0,
              "ticks": ""
             }
            },
            "marker": {
             "colorbar": {
              "outlinewidth": 0,
              "ticks": ""
             }
            },
            "type": "scatter3d"
           }
          ],
          "scattercarpet": [
           {
            "marker": {
             "colorbar": {
              "outlinewidth": 0,
              "ticks": ""
             }
            },
            "type": "scattercarpet"
           }
          ],
          "scattergeo": [
           {
            "marker": {
             "colorbar": {
              "outlinewidth": 0,
              "ticks": ""
             }
            },
            "type": "scattergeo"
           }
          ],
          "scattergl": [
           {
            "marker": {
             "colorbar": {
              "outlinewidth": 0,
              "ticks": ""
             }
            },
            "type": "scattergl"
           }
          ],
          "scattermap": [
           {
            "marker": {
             "colorbar": {
              "outlinewidth": 0,
              "ticks": ""
             }
            },
            "type": "scattermap"
           }
          ],
          "scattermapbox": [
           {
            "marker": {
             "colorbar": {
              "outlinewidth": 0,
              "ticks": ""
             }
            },
            "type": "scattermapbox"
           }
          ],
          "scatterpolar": [
           {
            "marker": {
             "colorbar": {
              "outlinewidth": 0,
              "ticks": ""
             }
            },
            "type": "scatterpolar"
           }
          ],
          "scatterpolargl": [
           {
            "marker": {
             "colorbar": {
              "outlinewidth": 0,
              "ticks": ""
             }
            },
            "type": "scatterpolargl"
           }
          ],
          "scatterternary": [
           {
            "marker": {
             "colorbar": {
              "outlinewidth": 0,
              "ticks": ""
             }
            },
            "type": "scatterternary"
           }
          ],
          "surface": [
           {
            "colorbar": {
             "outlinewidth": 0,
             "ticks": ""
            },
            "colorscale": [
             [
              0,
              "#0d0887"
             ],
             [
              0.1111111111111111,
              "#46039f"
             ],
             [
              0.2222222222222222,
              "#7201a8"
             ],
             [
              0.3333333333333333,
              "#9c179e"
             ],
             [
              0.4444444444444444,
              "#bd3786"
             ],
             [
              0.5555555555555556,
              "#d8576b"
             ],
             [
              0.6666666666666666,
              "#ed7953"
             ],
             [
              0.7777777777777778,
              "#fb9f3a"
             ],
             [
              0.8888888888888888,
              "#fdca26"
             ],
             [
              1,
              "#f0f921"
             ]
            ],
            "type": "surface"
           }
          ],
          "table": [
           {
            "cells": {
             "fill": {
              "color": "#EBF0F8"
             },
             "line": {
              "color": "white"
             }
            },
            "header": {
             "fill": {
              "color": "#C8D4E3"
             },
             "line": {
              "color": "white"
             }
            },
            "type": "table"
           }
          ]
         },
         "layout": {
          "annotationdefaults": {
           "arrowcolor": "#2a3f5f",
           "arrowhead": 0,
           "arrowwidth": 1
          },
          "autotypenumbers": "strict",
          "coloraxis": {
           "colorbar": {
            "outlinewidth": 0,
            "ticks": ""
           }
          },
          "colorscale": {
           "diverging": [
            [
             0,
             "#8e0152"
            ],
            [
             0.1,
             "#c51b7d"
            ],
            [
             0.2,
             "#de77ae"
            ],
            [
             0.3,
             "#f1b6da"
            ],
            [
             0.4,
             "#fde0ef"
            ],
            [
             0.5,
             "#f7f7f7"
            ],
            [
             0.6,
             "#e6f5d0"
            ],
            [
             0.7,
             "#b8e186"
            ],
            [
             0.8,
             "#7fbc41"
            ],
            [
             0.9,
             "#4d9221"
            ],
            [
             1,
             "#276419"
            ]
           ],
           "sequential": [
            [
             0,
             "#0d0887"
            ],
            [
             0.1111111111111111,
             "#46039f"
            ],
            [
             0.2222222222222222,
             "#7201a8"
            ],
            [
             0.3333333333333333,
             "#9c179e"
            ],
            [
             0.4444444444444444,
             "#bd3786"
            ],
            [
             0.5555555555555556,
             "#d8576b"
            ],
            [
             0.6666666666666666,
             "#ed7953"
            ],
            [
             0.7777777777777778,
             "#fb9f3a"
            ],
            [
             0.8888888888888888,
             "#fdca26"
            ],
            [
             1,
             "#f0f921"
            ]
           ],
           "sequentialminus": [
            [
             0,
             "#0d0887"
            ],
            [
             0.1111111111111111,
             "#46039f"
            ],
            [
             0.2222222222222222,
             "#7201a8"
            ],
            [
             0.3333333333333333,
             "#9c179e"
            ],
            [
             0.4444444444444444,
             "#bd3786"
            ],
            [
             0.5555555555555556,
             "#d8576b"
            ],
            [
             0.6666666666666666,
             "#ed7953"
            ],
            [
             0.7777777777777778,
             "#fb9f3a"
            ],
            [
             0.8888888888888888,
             "#fdca26"
            ],
            [
             1,
             "#f0f921"
            ]
           ]
          },
          "colorway": [
           "#636efa",
           "#EF553B",
           "#00cc96",
           "#ab63fa",
           "#FFA15A",
           "#19d3f3",
           "#FF6692",
           "#B6E880",
           "#FF97FF",
           "#FECB52"
          ],
          "font": {
           "color": "#2a3f5f"
          },
          "geo": {
           "bgcolor": "white",
           "lakecolor": "white",
           "landcolor": "#E5ECF6",
           "showlakes": true,
           "showland": true,
           "subunitcolor": "white"
          },
          "hoverlabel": {
           "align": "left"
          },
          "hovermode": "closest",
          "mapbox": {
           "style": "light"
          },
          "paper_bgcolor": "white",
          "plot_bgcolor": "#E5ECF6",
          "polar": {
           "angularaxis": {
            "gridcolor": "white",
            "linecolor": "white",
            "ticks": ""
           },
           "bgcolor": "#E5ECF6",
           "radialaxis": {
            "gridcolor": "white",
            "linecolor": "white",
            "ticks": ""
           }
          },
          "scene": {
           "xaxis": {
            "backgroundcolor": "#E5ECF6",
            "gridcolor": "white",
            "gridwidth": 2,
            "linecolor": "white",
            "showbackground": true,
            "ticks": "",
            "zerolinecolor": "white"
           },
           "yaxis": {
            "backgroundcolor": "#E5ECF6",
            "gridcolor": "white",
            "gridwidth": 2,
            "linecolor": "white",
            "showbackground": true,
            "ticks": "",
            "zerolinecolor": "white"
           },
           "zaxis": {
            "backgroundcolor": "#E5ECF6",
            "gridcolor": "white",
            "gridwidth": 2,
            "linecolor": "white",
            "showbackground": true,
            "ticks": "",
            "zerolinecolor": "white"
           }
          },
          "shapedefaults": {
           "line": {
            "color": "#2a3f5f"
           }
          },
          "ternary": {
           "aaxis": {
            "gridcolor": "white",
            "linecolor": "white",
            "ticks": ""
           },
           "baxis": {
            "gridcolor": "white",
            "linecolor": "white",
            "ticks": ""
           },
           "bgcolor": "#E5ECF6",
           "caxis": {
            "gridcolor": "white",
            "linecolor": "white",
            "ticks": ""
           }
          },
          "title": {
           "x": 0.05
          },
          "xaxis": {
           "automargin": true,
           "gridcolor": "white",
           "linecolor": "white",
           "ticks": "",
           "title": {
            "standoff": 15
           },
           "zerolinecolor": "white",
           "zerolinewidth": 2
          },
          "yaxis": {
           "automargin": true,
           "gridcolor": "white",
           "linecolor": "white",
           "ticks": "",
           "title": {
            "standoff": 15
           },
           "zerolinecolor": "white",
           "zerolinewidth": 2
          }
         }
        },
        "title": {
         "text": "Sales in Thousands by Store Age",
         "x": 0.5
        },
        "xaxis": {
         "anchor": "y",
         "domain": [
          0,
          1
         ],
         "title": {
          "text": "Store Age"
         }
        },
        "yaxis": {
         "anchor": "x",
         "domain": [
          0,
          1
         ],
         "title": {
          "text": "Sales in Thousands"
         }
        }
       }
      }
     },
     "metadata": {},
     "output_type": "display_data"
    }
   ],
   "source": [
    "df.groupby(\"store_age\").SalesInThousands.mean().reset_index()\n",
    "px.bar(\n",
    "    df.groupby(\"store_age\").SalesInThousands.mean().reset_index(),\n",
    "    y=\"SalesInThousands\",\n",
    "    x=\"store_age\",\n",
    "    title=\"Sales in Thousands by Store Age\",\n",
    "    text=\"SalesInThousands\",\n",
    ").update_traces(texttemplate=\"%{text:.2f}\").update_layout(\n",
    "    xaxis_title=\"Store Age\",\n",
    "    yaxis_title=\"Sales in Thousands\",\n",
    "    title_x=0.5,\n",
    ")"
   ]
  },
  {
   "cell_type": "markdown",
   "id": "97de744a",
   "metadata": {},
   "source": [
    "From the plot above, the average sales seem to be also fairly similar along the 3 store age categories. However, if we take into consideration the distribution of store ages in the previous section, it would be a smart decision to consider the age groups as a confounding variable for our analysis."
   ]
  },
  {
   "cell_type": "code",
   "execution_count": 16,
   "id": "ac73cea2",
   "metadata": {},
   "outputs": [
    {
     "data": {
      "application/vnd.plotly.v1+json": {
       "config": {
        "plotlyServerURL": "https://plot.ly"
       },
       "data": [
        {
         "hovertemplate": "MarketSize=Large<br>Promotion=%{x}<br>SalesInThousands=%{text}<extra></extra>",
         "legendgroup": "Large",
         "marker": {
          "color": "#636efa",
          "pattern": {
           "shape": ""
          }
         },
         "name": "Large",
         "orientation": "v",
         "showlegend": true,
         "text": {
          "bdata": "eLJa3hjPUkAfhetROClOQHTaQKcNTVNA",
          "dtype": "f8"
         },
         "textposition": "auto",
         "texttemplate": "%{text:.2f}",
         "type": "bar",
         "x": {
          "bdata": "AQID",
          "dtype": "i1"
         },
         "xaxis": "x",
         "y": {
          "bdata": "eLJa3hjPUkAfhetROClOQHTaQKcNTVNA",
          "dtype": "f8"
         },
         "yaxis": "y"
        },
        {
         "hovertemplate": "MarketSize=Medium<br>Promotion=%{x}<br>SalesInThousands=%{text}<extra></extra>",
         "legendgroup": "Medium",
         "marker": {
          "color": "#EF553B",
          "pattern": {
           "shape": ""
          }
         },
         "name": "Medium",
         "orientation": "v",
         "showlegend": true,
         "text": {
          "bdata": "S36x5BfWR0Br+NsUo45DQN7ZuzwEvEZA",
          "dtype": "f8"
         },
         "textposition": "auto",
         "texttemplate": "%{text:.2f}",
         "type": "bar",
         "x": {
          "bdata": "AQID",
          "dtype": "i1"
         },
         "xaxis": "x",
         "y": {
          "bdata": "S36x5BfWR0Br+NsUo45DQN7ZuzwEvEZA",
          "dtype": "f8"
         },
         "yaxis": "y"
        },
        {
         "hovertemplate": "MarketSize=Small<br>Promotion=%{x}<br>SalesInThousands=%{text}<extra></extra>",
         "legendgroup": "Small",
         "marker": {
          "color": "#00cc96",
          "pattern": {
           "shape": ""
          }
         },
         "name": "Small",
         "orientation": "v",
         "showlegend": true,
         "text": {
          "bdata": "zczMzMwUTkD2KFyPwmdJQGkDnTbQwU1A",
          "dtype": "f8"
         },
         "textposition": "auto",
         "texttemplate": "%{text:.2f}",
         "type": "bar",
         "x": {
          "bdata": "AQID",
          "dtype": "i1"
         },
         "xaxis": "x",
         "y": {
          "bdata": "zczMzMwUTkD2KFyPwmdJQGkDnTbQwU1A",
          "dtype": "f8"
         },
         "yaxis": "y"
        }
       ],
       "layout": {
        "barmode": "group",
        "legend": {
         "title": {
          "text": "MarketSize"
         },
         "tracegroupgap": 0
        },
        "template": {
         "data": {
          "bar": [
           {
            "error_x": {
             "color": "#2a3f5f"
            },
            "error_y": {
             "color": "#2a3f5f"
            },
            "marker": {
             "line": {
              "color": "#E5ECF6",
              "width": 0.5
             },
             "pattern": {
              "fillmode": "overlay",
              "size": 10,
              "solidity": 0.2
             }
            },
            "type": "bar"
           }
          ],
          "barpolar": [
           {
            "marker": {
             "line": {
              "color": "#E5ECF6",
              "width": 0.5
             },
             "pattern": {
              "fillmode": "overlay",
              "size": 10,
              "solidity": 0.2
             }
            },
            "type": "barpolar"
           }
          ],
          "carpet": [
           {
            "aaxis": {
             "endlinecolor": "#2a3f5f",
             "gridcolor": "white",
             "linecolor": "white",
             "minorgridcolor": "white",
             "startlinecolor": "#2a3f5f"
            },
            "baxis": {
             "endlinecolor": "#2a3f5f",
             "gridcolor": "white",
             "linecolor": "white",
             "minorgridcolor": "white",
             "startlinecolor": "#2a3f5f"
            },
            "type": "carpet"
           }
          ],
          "choropleth": [
           {
            "colorbar": {
             "outlinewidth": 0,
             "ticks": ""
            },
            "type": "choropleth"
           }
          ],
          "contour": [
           {
            "colorbar": {
             "outlinewidth": 0,
             "ticks": ""
            },
            "colorscale": [
             [
              0,
              "#0d0887"
             ],
             [
              0.1111111111111111,
              "#46039f"
             ],
             [
              0.2222222222222222,
              "#7201a8"
             ],
             [
              0.3333333333333333,
              "#9c179e"
             ],
             [
              0.4444444444444444,
              "#bd3786"
             ],
             [
              0.5555555555555556,
              "#d8576b"
             ],
             [
              0.6666666666666666,
              "#ed7953"
             ],
             [
              0.7777777777777778,
              "#fb9f3a"
             ],
             [
              0.8888888888888888,
              "#fdca26"
             ],
             [
              1,
              "#f0f921"
             ]
            ],
            "type": "contour"
           }
          ],
          "contourcarpet": [
           {
            "colorbar": {
             "outlinewidth": 0,
             "ticks": ""
            },
            "type": "contourcarpet"
           }
          ],
          "heatmap": [
           {
            "colorbar": {
             "outlinewidth": 0,
             "ticks": ""
            },
            "colorscale": [
             [
              0,
              "#0d0887"
             ],
             [
              0.1111111111111111,
              "#46039f"
             ],
             [
              0.2222222222222222,
              "#7201a8"
             ],
             [
              0.3333333333333333,
              "#9c179e"
             ],
             [
              0.4444444444444444,
              "#bd3786"
             ],
             [
              0.5555555555555556,
              "#d8576b"
             ],
             [
              0.6666666666666666,
              "#ed7953"
             ],
             [
              0.7777777777777778,
              "#fb9f3a"
             ],
             [
              0.8888888888888888,
              "#fdca26"
             ],
             [
              1,
              "#f0f921"
             ]
            ],
            "type": "heatmap"
           }
          ],
          "histogram": [
           {
            "marker": {
             "pattern": {
              "fillmode": "overlay",
              "size": 10,
              "solidity": 0.2
             }
            },
            "type": "histogram"
           }
          ],
          "histogram2d": [
           {
            "colorbar": {
             "outlinewidth": 0,
             "ticks": ""
            },
            "colorscale": [
             [
              0,
              "#0d0887"
             ],
             [
              0.1111111111111111,
              "#46039f"
             ],
             [
              0.2222222222222222,
              "#7201a8"
             ],
             [
              0.3333333333333333,
              "#9c179e"
             ],
             [
              0.4444444444444444,
              "#bd3786"
             ],
             [
              0.5555555555555556,
              "#d8576b"
             ],
             [
              0.6666666666666666,
              "#ed7953"
             ],
             [
              0.7777777777777778,
              "#fb9f3a"
             ],
             [
              0.8888888888888888,
              "#fdca26"
             ],
             [
              1,
              "#f0f921"
             ]
            ],
            "type": "histogram2d"
           }
          ],
          "histogram2dcontour": [
           {
            "colorbar": {
             "outlinewidth": 0,
             "ticks": ""
            },
            "colorscale": [
             [
              0,
              "#0d0887"
             ],
             [
              0.1111111111111111,
              "#46039f"
             ],
             [
              0.2222222222222222,
              "#7201a8"
             ],
             [
              0.3333333333333333,
              "#9c179e"
             ],
             [
              0.4444444444444444,
              "#bd3786"
             ],
             [
              0.5555555555555556,
              "#d8576b"
             ],
             [
              0.6666666666666666,
              "#ed7953"
             ],
             [
              0.7777777777777778,
              "#fb9f3a"
             ],
             [
              0.8888888888888888,
              "#fdca26"
             ],
             [
              1,
              "#f0f921"
             ]
            ],
            "type": "histogram2dcontour"
           }
          ],
          "mesh3d": [
           {
            "colorbar": {
             "outlinewidth": 0,
             "ticks": ""
            },
            "type": "mesh3d"
           }
          ],
          "parcoords": [
           {
            "line": {
             "colorbar": {
              "outlinewidth": 0,
              "ticks": ""
             }
            },
            "type": "parcoords"
           }
          ],
          "pie": [
           {
            "automargin": true,
            "type": "pie"
           }
          ],
          "scatter": [
           {
            "fillpattern": {
             "fillmode": "overlay",
             "size": 10,
             "solidity": 0.2
            },
            "type": "scatter"
           }
          ],
          "scatter3d": [
           {
            "line": {
             "colorbar": {
              "outlinewidth": 0,
              "ticks": ""
             }
            },
            "marker": {
             "colorbar": {
              "outlinewidth": 0,
              "ticks": ""
             }
            },
            "type": "scatter3d"
           }
          ],
          "scattercarpet": [
           {
            "marker": {
             "colorbar": {
              "outlinewidth": 0,
              "ticks": ""
             }
            },
            "type": "scattercarpet"
           }
          ],
          "scattergeo": [
           {
            "marker": {
             "colorbar": {
              "outlinewidth": 0,
              "ticks": ""
             }
            },
            "type": "scattergeo"
           }
          ],
          "scattergl": [
           {
            "marker": {
             "colorbar": {
              "outlinewidth": 0,
              "ticks": ""
             }
            },
            "type": "scattergl"
           }
          ],
          "scattermap": [
           {
            "marker": {
             "colorbar": {
              "outlinewidth": 0,
              "ticks": ""
             }
            },
            "type": "scattermap"
           }
          ],
          "scattermapbox": [
           {
            "marker": {
             "colorbar": {
              "outlinewidth": 0,
              "ticks": ""
             }
            },
            "type": "scattermapbox"
           }
          ],
          "scatterpolar": [
           {
            "marker": {
             "colorbar": {
              "outlinewidth": 0,
              "ticks": ""
             }
            },
            "type": "scatterpolar"
           }
          ],
          "scatterpolargl": [
           {
            "marker": {
             "colorbar": {
              "outlinewidth": 0,
              "ticks": ""
             }
            },
            "type": "scatterpolargl"
           }
          ],
          "scatterternary": [
           {
            "marker": {
             "colorbar": {
              "outlinewidth": 0,
              "ticks": ""
             }
            },
            "type": "scatterternary"
           }
          ],
          "surface": [
           {
            "colorbar": {
             "outlinewidth": 0,
             "ticks": ""
            },
            "colorscale": [
             [
              0,
              "#0d0887"
             ],
             [
              0.1111111111111111,
              "#46039f"
             ],
             [
              0.2222222222222222,
              "#7201a8"
             ],
             [
              0.3333333333333333,
              "#9c179e"
             ],
             [
              0.4444444444444444,
              "#bd3786"
             ],
             [
              0.5555555555555556,
              "#d8576b"
             ],
             [
              0.6666666666666666,
              "#ed7953"
             ],
             [
              0.7777777777777778,
              "#fb9f3a"
             ],
             [
              0.8888888888888888,
              "#fdca26"
             ],
             [
              1,
              "#f0f921"
             ]
            ],
            "type": "surface"
           }
          ],
          "table": [
           {
            "cells": {
             "fill": {
              "color": "#EBF0F8"
             },
             "line": {
              "color": "white"
             }
            },
            "header": {
             "fill": {
              "color": "#C8D4E3"
             },
             "line": {
              "color": "white"
             }
            },
            "type": "table"
           }
          ]
         },
         "layout": {
          "annotationdefaults": {
           "arrowcolor": "#2a3f5f",
           "arrowhead": 0,
           "arrowwidth": 1
          },
          "autotypenumbers": "strict",
          "coloraxis": {
           "colorbar": {
            "outlinewidth": 0,
            "ticks": ""
           }
          },
          "colorscale": {
           "diverging": [
            [
             0,
             "#8e0152"
            ],
            [
             0.1,
             "#c51b7d"
            ],
            [
             0.2,
             "#de77ae"
            ],
            [
             0.3,
             "#f1b6da"
            ],
            [
             0.4,
             "#fde0ef"
            ],
            [
             0.5,
             "#f7f7f7"
            ],
            [
             0.6,
             "#e6f5d0"
            ],
            [
             0.7,
             "#b8e186"
            ],
            [
             0.8,
             "#7fbc41"
            ],
            [
             0.9,
             "#4d9221"
            ],
            [
             1,
             "#276419"
            ]
           ],
           "sequential": [
            [
             0,
             "#0d0887"
            ],
            [
             0.1111111111111111,
             "#46039f"
            ],
            [
             0.2222222222222222,
             "#7201a8"
            ],
            [
             0.3333333333333333,
             "#9c179e"
            ],
            [
             0.4444444444444444,
             "#bd3786"
            ],
            [
             0.5555555555555556,
             "#d8576b"
            ],
            [
             0.6666666666666666,
             "#ed7953"
            ],
            [
             0.7777777777777778,
             "#fb9f3a"
            ],
            [
             0.8888888888888888,
             "#fdca26"
            ],
            [
             1,
             "#f0f921"
            ]
           ],
           "sequentialminus": [
            [
             0,
             "#0d0887"
            ],
            [
             0.1111111111111111,
             "#46039f"
            ],
            [
             0.2222222222222222,
             "#7201a8"
            ],
            [
             0.3333333333333333,
             "#9c179e"
            ],
            [
             0.4444444444444444,
             "#bd3786"
            ],
            [
             0.5555555555555556,
             "#d8576b"
            ],
            [
             0.6666666666666666,
             "#ed7953"
            ],
            [
             0.7777777777777778,
             "#fb9f3a"
            ],
            [
             0.8888888888888888,
             "#fdca26"
            ],
            [
             1,
             "#f0f921"
            ]
           ]
          },
          "colorway": [
           "#636efa",
           "#EF553B",
           "#00cc96",
           "#ab63fa",
           "#FFA15A",
           "#19d3f3",
           "#FF6692",
           "#B6E880",
           "#FF97FF",
           "#FECB52"
          ],
          "font": {
           "color": "#2a3f5f"
          },
          "geo": {
           "bgcolor": "white",
           "lakecolor": "white",
           "landcolor": "#E5ECF6",
           "showlakes": true,
           "showland": true,
           "subunitcolor": "white"
          },
          "hoverlabel": {
           "align": "left"
          },
          "hovermode": "closest",
          "mapbox": {
           "style": "light"
          },
          "paper_bgcolor": "white",
          "plot_bgcolor": "#E5ECF6",
          "polar": {
           "angularaxis": {
            "gridcolor": "white",
            "linecolor": "white",
            "ticks": ""
           },
           "bgcolor": "#E5ECF6",
           "radialaxis": {
            "gridcolor": "white",
            "linecolor": "white",
            "ticks": ""
           }
          },
          "scene": {
           "xaxis": {
            "backgroundcolor": "#E5ECF6",
            "gridcolor": "white",
            "gridwidth": 2,
            "linecolor": "white",
            "showbackground": true,
            "ticks": "",
            "zerolinecolor": "white"
           },
           "yaxis": {
            "backgroundcolor": "#E5ECF6",
            "gridcolor": "white",
            "gridwidth": 2,
            "linecolor": "white",
            "showbackground": true,
            "ticks": "",
            "zerolinecolor": "white"
           },
           "zaxis": {
            "backgroundcolor": "#E5ECF6",
            "gridcolor": "white",
            "gridwidth": 2,
            "linecolor": "white",
            "showbackground": true,
            "ticks": "",
            "zerolinecolor": "white"
           }
          },
          "shapedefaults": {
           "line": {
            "color": "#2a3f5f"
           }
          },
          "ternary": {
           "aaxis": {
            "gridcolor": "white",
            "linecolor": "white",
            "ticks": ""
           },
           "baxis": {
            "gridcolor": "white",
            "linecolor": "white",
            "ticks": ""
           },
           "bgcolor": "#E5ECF6",
           "caxis": {
            "gridcolor": "white",
            "linecolor": "white",
            "ticks": ""
           }
          },
          "title": {
           "x": 0.05
          },
          "xaxis": {
           "automargin": true,
           "gridcolor": "white",
           "linecolor": "white",
           "ticks": "",
           "title": {
            "standoff": 15
           },
           "zerolinecolor": "white",
           "zerolinewidth": 2
          },
          "yaxis": {
           "automargin": true,
           "gridcolor": "white",
           "linecolor": "white",
           "ticks": "",
           "title": {
            "standoff": 15
           },
           "zerolinecolor": "white",
           "zerolinewidth": 2
          }
         }
        },
        "title": {
         "text": "Average Sales by Promotion per Market Size",
         "x": 0.5
        },
        "xaxis": {
         "anchor": "y",
         "domain": [
          0,
          1
         ],
         "title": {
          "text": "Promotion"
         }
        },
        "yaxis": {
         "anchor": "x",
         "domain": [
          0,
          1
         ],
         "title": {
          "text": "Sales in Thousands"
         }
        }
       }
      }
     },
     "metadata": {},
     "output_type": "display_data"
    }
   ],
   "source": [
    "promo_sales = (\n",
    "    df.groupby([\"Promotion\", \"MarketSize\"]).SalesInThousands.mean().reset_index()\n",
    ")\n",
    "\n",
    "fig = px.bar(\n",
    "    promo_sales,\n",
    "    x=\"Promotion\",\n",
    "    y=\"SalesInThousands\",\n",
    "    color=\"MarketSize\",\n",
    "    text=\"SalesInThousands\",\n",
    "    title=\"Average Sales by Promotion per Market Size\",\n",
    ")\n",
    "\n",
    "fig.update_traces(texttemplate=\"%{text:.2f}\").update_layout(\n",
    "    xaxis_title=\"Promotion\",\n",
    "    yaxis_title=\"Sales in Thousands\",\n",
    "    title_x=0.5,\n",
    "    barmode=\"group\",\n",
    ")"
   ]
  },
  {
   "cell_type": "markdown",
   "id": "57277a65",
   "metadata": {},
   "source": [
    "From the plot above we can see that the average sales tend to be higher in small and large market sizes, but lower in the medium ones. Therefore, we need to consider Market size as a confounding variable in our analysis later on."
   ]
  },
  {
   "cell_type": "markdown",
   "id": "ef1165bd",
   "metadata": {},
   "source": [
    "## Checking Test assumptions\n",
    "\n",
    "In this section I will be checking if our dataset fulfills the three assumptions of the ANOVA test:\n",
    "- The data is normally distributed.\n",
    "- The variance among the groups should be homogenous (approximately equal).\n",
    "- The observations are independent of each other.\n",
    "\n",
    "Depending on whether the assumption are met or not, I will decide wich method of testing is appropriate for the dataset in question."
   ]
  },
  {
   "cell_type": "code",
   "execution_count": 17,
   "id": "847461a3",
   "metadata": {},
   "outputs": [
    {
     "data": {
      "text/plain": [
       "Text(0.5, 0, 'Sales in Thousands')"
      ]
     },
     "execution_count": 17,
     "metadata": {},
     "output_type": "execute_result"
    },
    {
     "data": {
      "image/png": "[encoded data removed]",
      "text/plain": [
       "<Figure size 640x480 with 1 Axes>"
      ]
     },
     "metadata": {},
     "output_type": "display_data"
    }
   ],
   "source": [
    "sns.histplot(df, x=\"SalesInThousands\", hue=\"Promotion\", kde=True, palette=\"Set2\")\n",
    "plt.title(\"Sales in Thousands by Promotion\")\n",
    "plt.xlabel(\"Sales in Thousands\")"
   ]
  },
  {
   "cell_type": "markdown",
   "id": "49dea508",
   "metadata": {},
   "source": [
    "As we can see from the histogram of the sales distrbitutions by platform above, neither of the 3 distributions are normal. Thus, **the assumption of normality is not met**."
   ]
  },
  {
   "cell_type": "markdown",
   "id": "d8f7045e",
   "metadata": {},
   "source": [
    "From the shape of the three distributions, however, we can notice that there is not much variance between the three distributions, yet a Levene test will be able to quantify this claim for a definite answer. The levene test is a hypothesis test such that:\n",
    "- H_0: The variances of all groups are equal.\n",
    "- H_A: At least one group's vairance differs from the rest.\n",
    "\n",
    "After carrying out this test, if the p-value obtained is not significant (>0.05) then we have no evidence that the variances of all the groups present any difference."
   ]
  },
  {
   "cell_type": "code",
   "execution_count": 18,
   "id": "67b2966c",
   "metadata": {},
   "outputs": [
    {
     "data": {
      "text/plain": [
       "LeveneResult(statistic=np.float64(1.2696787527507418), pvalue=np.float64(0.2817514565692118))"
      ]
     },
     "execution_count": 18,
     "metadata": {},
     "output_type": "execute_result"
    }
   ],
   "source": [
    "sales_per_promotion = [\n",
    "    df[df.Promotion == x].SalesInThousands for x in df.Promotion.unique()\n",
    "]\n",
    "levene = stats.levene(*sales_per_promotion)\n",
    "levene"
   ]
  },
  {
   "cell_type": "markdown",
   "id": "6e34b579",
   "metadata": {},
   "source": [
    "From the result above (p-value = 0.28 > 0.05) we can confidently say that the variances are homogeneous. Thus, **the homogenity of variances conditions is met**."
   ]
  },
  {
   "cell_type": "markdown",
   "id": "aeb44371",
   "metadata": {},
   "source": [
    "**The condition of independence is also met** because the sales data was roughly evenly split for each promotion strategy, having a different LocationID, MarketSize, etc. (essentially there are no duplicates in the dataset, so the rows/data are independent)."
   ]
  },
  {
   "cell_type": "code",
   "execution_count": 19,
   "id": "06a2b605",
   "metadata": {},
   "outputs": [
    {
     "data": {
      "text/plain": [
       "np.int64(0)"
      ]
     },
     "execution_count": 19,
     "metadata": {},
     "output_type": "execute_result"
    }
   ],
   "source": [
    "df.groupby(\"LocationID\").SalesInThousands.mean().duplicated().sum()"
   ]
  },
  {
   "cell_type": "markdown",
   "id": "191d6ffb",
   "metadata": {},
   "source": [
    "Since one of our assumptions is violated (the assumption of normality), we cannot perform an ANOVA test. In this case, we would need to perform a non-parametric test instead. \n",
    "\n",
    "A non-parametric test that does not require normality and is usually used to compare three or more variants, is the **Kruskal-Wallis Test**. There is a function in the scipy.stats library that conducts the test and offers the results to us."
   ]
  },
  {
   "cell_type": "markdown",
   "id": "11d5e8de",
   "metadata": {},
   "source": [
    "## A/B test\n",
    "\n",
    "As established earlier, the test that we would need to carry out is the Kruskal-Wallis Test. This test compares the distributions (the medians) of 3 or more independent groups (like in this case). The hypothesis raised are as follows:\n",
    "- H_0: The medians of the groups are the same (thus the data comes from the same distribution).\n",
    "- H_A: At least one median differs from the rest (at least one group comes from a different distribution).\n",
    "\n",
    "If in fact we reject H_0, we would also need to then individually compare the medians and run tests to determine a ranking of the three promotion strategies. Again for pariwize comparison, since the distributions are not normal, we would need to use a non-parametric test. \n",
    "\n",
    "In such a case, I would use the **Kolmogorov-Smirnov Test** which compares the cumulative distribution functions of two samples (or one sample to a reference probability)."
   ]
  },
  {
   "cell_type": "markdown",
   "id": "0a51a8a9",
   "metadata": {},
   "source": [
    "First let's run the Kruskal-Wallis test:"
   ]
  },
  {
   "cell_type": "code",
   "execution_count": 20,
   "id": "d8fb914c",
   "metadata": {},
   "outputs": [
    {
     "data": {
      "text/plain": [
       "np.float64(2.6741866266697816e-12)"
      ]
     },
     "execution_count": 20,
     "metadata": {},
     "output_type": "execute_result"
    }
   ],
   "source": [
    "k = stats.kruskal(*sales_per_promotion)\n",
    "k.pvalue"
   ]
  },
  {
   "cell_type": "markdown",
   "id": "010a072a",
   "metadata": {},
   "source": [
    "The resulting pvalue of the Kruskal test above leads us to reject the null hypothesis, as it is much smaller than the 5% significance level. Therefore, we can safely assume that at least one promotion strategy has better sales than the rest (or there could be a ranking of the three)."
   ]
  },
  {
   "cell_type": "markdown",
   "id": "59508e11",
   "metadata": {},
   "source": [
    "Since the test failed, I will procede with the pairwize comparison of the three groups using the KS test to understand if there could be a ranking system or not. In this test the two hypothesis are:\n",
    "\n",
    "- H_0: the data of the two groups comes from the same continuous distribution.\n",
    "- H_A: the data comes from different distributions."
   ]
  },
  {
   "cell_type": "code",
   "execution_count": 21,
   "id": "cc83d633",
   "metadata": {},
   "outputs": [
    {
     "data": {
      "text/html": [
       "<table class=\"simpletable\">\n",
       "<caption>Test Multiple Comparison ks_2samp \n",
       "FWER=0.05 method=bonf\n",
       "alphacSidak=0.02, alphacBonf=0.017</caption>\n",
       "<tr>\n",
       "  <th>group1</th> <th>group2</th>  <th>stat</th>   <th>pval</th>  <th>pval_corr</th> <th>reject</th>\n",
       "</tr>\n",
       "<tr>\n",
       "     <td>1</td>      <td>2</td>   <td>0.3696</td>   <td>0.0</td>     <td>0.0</td>     <td>True</td> \n",
       "</tr>\n",
       "<tr>\n",
       "     <td>1</td>      <td>3</td>   <td>0.1665</td> <td>0.0117</td>  <td>0.0352</td>    <td>True</td> \n",
       "</tr>\n",
       "<tr>\n",
       "     <td>2</td>      <td>3</td>   <td>0.2606</td>   <td>0.0</td>     <td>0.0</td>     <td>True</td> \n",
       "</tr>\n",
       "</table>"
      ],
      "text/latex": [
       "\\begin{center}\n",
       "\\begin{tabular}{cccccc}\n",
       "\\toprule\n",
       "\\textbf{group1} & \\textbf{group2} & \\textbf{stat} & \\textbf{pval} & \\textbf{pval\\_corr} & \\textbf{reject}  \\\\\n",
       "\\midrule\n",
       "       1        &        2        &     0.3696    &      0.0      &         0.0         &       True       \\\\\n",
       "       1        &        3        &     0.1665    &     0.0117    &        0.0352       &       True       \\\\\n",
       "       2        &        3        &     0.2606    &      0.0      &         0.0         &       True       \\\\\n",
       "\\bottomrule\n",
       "\\end{tabular}\n",
       "%\\caption{Test Multiple Comparison ks_2samp \n",
       "FWER=0.05 method=bonf\n",
       "alphacSidak=0.02, alphacBonf=0.017}\n",
       "\\end{center}"
      ],
      "text/plain": [
       "<class 'statsmodels.iolib.table.SimpleTable'>"
      ]
     },
     "execution_count": 21,
     "metadata": {},
     "output_type": "execute_result"
    }
   ],
   "source": [
    "comp_table = MultiComparison(df.SalesInThousands, df.Promotion)\n",
    "result = comp_table.allpairtest(stats.ks_2samp, alpha=0.05)\n",
    "\n",
    "result[0]"
   ]
  },
  {
   "cell_type": "markdown",
   "id": "ba68129e",
   "metadata": {},
   "source": [
    "In the table of results above the null hypothesis is rejected in all three cases. Which means that there is a difference between all three groups, and therefore there must be a ranking. To determine the ranking I would like to visualize the data using a boxplot that shows where the medians stand next to each other."
   ]
  },
  {
   "cell_type": "code",
   "execution_count": 22,
   "id": "d18ef575",
   "metadata": {},
   "outputs": [
    {
     "data": {
      "text/plain": [
       "<Axes: xlabel='Promotion', ylabel='SalesInThousands'>"
      ]
     },
     "execution_count": 22,
     "metadata": {},
     "output_type": "execute_result"
    },
    {
     "data": {
      "image/png": "[encoded data removed]",
      "text/plain": [
       "<Figure size 1200x600 with 2 Axes>"
      ]
     },
     "metadata": {},
     "output_type": "display_data"
    }
   ],
   "source": [
    "plt.figure(figsize=(12, 6))\n",
    "plt.subplot(121)\n",
    "sns.boxplot(df, x=\"Promotion\", y=\"SalesInThousands\", palette=\"Set2\")\n",
    "\n",
    "plt.title(\"Sales in Thousands by Promotion\")\n",
    "plt.xlabel(\"Promotion\")\n",
    "plt.ylabel(\"Sales in Thousands\")\n",
    "\n",
    "m1, m2, m3 = df.groupby(\"Promotion\")[\"SalesInThousands\"].median().values\n",
    "\n",
    "plt.axhline(m1, color=\"red\", ls=\"--\", label=\"Median Promotion 1\")\n",
    "plt.axhline(m2, color=\"black\", ls=\"--\", label=\"Median Promotion 2\")\n",
    "plt.axhline(m3, color=\"yellow\", ls=\"--\", label=\"Median Promotion 3\")\n",
    "plt.legend()\n",
    "\n",
    "plt.subplot(122)\n",
    "sns.barplot(\n",
    "    data=df,\n",
    "    x=\"Promotion\",\n",
    "    y=\"SalesInThousands\",\n",
    "    palette=\"Set2\",\n",
    "    estimator=np.median,\n",
    "    ci=None,\n",
    ")"
   ]
  },
  {
   "cell_type": "markdown",
   "id": "5201025c",
   "metadata": {},
   "source": [
    "From the figure above, I can see that in our sample there seems to be a ranking order as follows: \n",
    "- promotion 1 > promotion 3 > promotion 2\n",
    "\n",
    "Since, the tests above confirmed both the difference of variants and the presence of a ranking between these variants, I have reason to believe the ranking above is generalizable. Therefore, promotion strategy nr. 1 would be the one that generated the most sales and thus the most successful, followed by strategy nr. 3, while  nr. 2 generated the least sales."
   ]
  },
  {
   "cell_type": "markdown",
   "id": "8e93b48d",
   "metadata": {},
   "source": [
    "Let's check these findings using CIs computed analyitcally:"
   ]
  },
  {
   "cell_type": "code",
   "execution_count": 23,
   "id": "4f57ec61",
   "metadata": {},
   "outputs": [
    {
     "data": {
      "text/html": [
       "<table class=\"simpletable\">\n",
       "<caption>Multiple Comparison of Means - Tukey HSD, FWER=0.05</caption>\n",
       "<tr>\n",
       "  <th>group1</th> <th>group2</th> <th>meandiff</th>  <th>p-adj</th>   <th>lower</th>   <th>upper</th>  <th>reject</th>\n",
       "</tr>\n",
       "<tr>\n",
       "     <td>1</td>      <td>2</td>   <td>-10.7696</td>   <td>0.0</td>  <td>-14.7738</td> <td>-6.7654</td>  <td>True</td> \n",
       "</tr>\n",
       "<tr>\n",
       "     <td>1</td>      <td>3</td>    <td>-2.7345</td> <td>0.2444</td>  <td>-6.7388</td> <td>1.2697</td>   <td>False</td>\n",
       "</tr>\n",
       "<tr>\n",
       "     <td>2</td>      <td>3</td>    <td>8.0351</td>    <td>0.0</td>   <td>4.1208</td>  <td>11.9493</td>  <td>True</td> \n",
       "</tr>\n",
       "</table>"
      ],
      "text/latex": [
       "\\begin{center}\n",
       "\\begin{tabular}{ccccccc}\n",
       "\\toprule\n",
       "\\textbf{group1} & \\textbf{group2} & \\textbf{meandiff} & \\textbf{p-adj} & \\textbf{lower} & \\textbf{upper} & \\textbf{reject}  \\\\\n",
       "\\midrule\n",
       "       1        &        2        &      -10.7696     &      0.0       &    -14.7738    &    -6.7654     &       True       \\\\\n",
       "       1        &        3        &      -2.7345      &     0.2444     &    -6.7388     &     1.2697     &      False       \\\\\n",
       "       2        &        3        &       8.0351      &      0.0       &     4.1208     &    11.9493     &       True       \\\\\n",
       "\\bottomrule\n",
       "\\end{tabular}\n",
       "%\\caption{Multiple Comparison of Means - Tukey HSD, FWER=0.05}\n",
       "\\end{center}"
      ],
      "text/plain": [
       "<class 'statsmodels.iolib.table.SimpleTable'>"
      ]
     },
     "execution_count": 23,
     "metadata": {},
     "output_type": "execute_result"
    }
   ],
   "source": [
    "CI = comp_table.tukeyhsd()\n",
    "CI.summary()"
   ]
  },
  {
   "cell_type": "markdown",
   "id": "5fd2c0ea",
   "metadata": {},
   "source": [
    "Let's check the CI via bootstrapping:"
   ]
  },
  {
   "cell_type": "code",
   "execution_count": 24,
   "id": "f4a3d47f",
   "metadata": {},
   "outputs": [
    {
     "data": {
      "text/html": [
       "<div>\n",
       "<style scoped>\n",
       "    .dataframe tbody tr th:only-of-type {\n",
       "        vertical-align: middle;\n",
       "    }\n",
       "\n",
       "    .dataframe tbody tr th {\n",
       "        vertical-align: top;\n",
       "    }\n",
       "\n",
       "    .dataframe thead th {\n",
       "        text-align: right;\n",
       "    }\n",
       "</style>\n",
       "<table border=\"1\" class=\"dataframe\">\n",
       "  <thead>\n",
       "    <tr style=\"text-align: right;\">\n",
       "      <th></th>\n",
       "      <th>Lower Bound</th>\n",
       "      <th>Upper Bound</th>\n",
       "    </tr>\n",
       "  </thead>\n",
       "  <tbody>\n",
       "    <tr>\n",
       "      <th>1 vs 2</th>\n",
       "      <td>7.549319</td>\n",
       "      <td>14.172038</td>\n",
       "    </tr>\n",
       "    <tr>\n",
       "      <th>1 vs 3</th>\n",
       "      <td>-0.513410</td>\n",
       "      <td>6.177813</td>\n",
       "    </tr>\n",
       "    <tr>\n",
       "      <th>2 vs 3</th>\n",
       "      <td>-11.246044</td>\n",
       "      <td>-4.690395</td>\n",
       "    </tr>\n",
       "  </tbody>\n",
       "</table>\n",
       "</div>"
      ],
      "text/plain": [
       "        Lower Bound  Upper Bound\n",
       "1 vs 2     7.549319    14.172038\n",
       "1 vs 3    -0.513410     6.177813\n",
       "2 vs 3   -11.246044    -4.690395"
      ]
     },
     "execution_count": 24,
     "metadata": {},
     "output_type": "execute_result"
    }
   ],
   "source": [
    "def bootstrap_ci(group1, group2, nboot=1000, alpha=0.05):\n",
    "    \"\"\"\n",
    "    Bootstrap confidence interval for the difference in means between two groups.\n",
    "    Parameters:\n",
    "    group1: array-like, first group of data\n",
    "    group2: array-like, second group of data\n",
    "    nboot: int, number of bootstrap samples\n",
    "    alpha: float, significance level for the confidence interval\n",
    "    Returns:\n",
    "    tuple: lower and upper bounds of the confidence interval\n",
    "    \"\"\"\n",
    "    boot_diffs = []\n",
    "    for _ in range(nboot):\n",
    "        # Resample with replacement\n",
    "        boot1 = np.random.choice(group1, size=len(group1), replace=True)\n",
    "        boot2 = np.random.choice(group2, size=len(group2), replace=True)\n",
    "        boot_diffs.append(np.mean(boot1) - np.mean(boot2))\n",
    "\n",
    "    # Calculate percentile-based CI\n",
    "    lower = np.percentile(boot_diffs, 100 * alpha / 2)\n",
    "    upper = np.percentile(boot_diffs, 100 * (1 - alpha / 2))\n",
    "    return (lower, upper)\n",
    "\n",
    "\n",
    "groups = df.groupby(\"Promotion\")[\"SalesInThousands\"].apply(list)\n",
    "promo1 = groups[1]\n",
    "promo2 = groups[2]\n",
    "promo3 = groups[3]\n",
    "\n",
    "comparisons = {\n",
    "    \"1 vs 2\": bootstrap_ci(promo1, promo2),\n",
    "    \"1 vs 3\": bootstrap_ci(promo1, promo3),\n",
    "    \"2 vs 3\": bootstrap_ci(promo2, promo3),\n",
    "}\n",
    "\n",
    "pd.DataFrame(comparisons).T.rename(columns={0: \"Lower Bound\", 1: \"Upper Bound\"})"
   ]
  },
  {
   "cell_type": "markdown",
   "id": "6d821061",
   "metadata": {},
   "source": [
    "Using both the analytical and bootstrapping method of producing confidence intervals we can see that when comparing the metric between Promotions 1vs2 and 2vs3, we obtain Confidence intervals that do not include 0. Thus, the null hypothesis (that the means of the two groups come from the same distribution) is rejected. \n",
    "\n",
    "However, that is not the case when we compare Promotions 1 and 3, which contradicts our earlier finding using the non-parametric test. Giving a closer look to the bootstrapping method (which is more robust than the analytical computation for this case), we can see that 0 is thinly included in the CI. This makes me more inclined to believe the results of the Kolmogorov-Smirnov test, which suggested that there is a difference between the two groups."
   ]
  },
  {
   "cell_type": "markdown",
   "id": "0058b709",
   "metadata": {},
   "source": [
    "## Confounding variables\n",
    "\n",
    "The result above only takes into account the metric (sales) and the variable in question (promotion), however it fails to take into account any difference that could occur from other variables in the dataset such as Market size, week, and Age of store.\n",
    "\n",
    "To determine the presence of a confounding variable I will check if there is any visual difference between the independent variable and the dependent variable (metric/sales) while adding the suspected confounder as a hue, and hue-ing the confounder by the independent variable (Promotion). \n",
    "\n",
    "Then I will confirm numerically by checking the pvalue of a fischer_exact test between the independent variable (promotion) and the confounder (if the variables are independent of the confounder or not)."
   ]
  },
  {
   "cell_type": "code",
   "execution_count": 25,
   "id": "bc8663c1",
   "metadata": {},
   "outputs": [],
   "source": [
    "def find_confounder(df, confounder, x=\"Promotion\") -> np.float64:\n",
    "    \"\"\"\n",
    "    Function to find confounders in the data\n",
    "    \"\"\"\n",
    "    contingency_table = pd.crosstab(df[x], df[confounder])\n",
    "\n",
    "    _, p = stats.fisher_exact(contingency_table)\n",
    "\n",
    "    return p\n",
    "\n",
    "\n",
    "def visualize_confounder(df, confounder, x=\"Promotion\", y=\"SalesInThousands\") -> None:\n",
    "    \"\"\"\n",
    "    Function to visualize confounders in the data\n",
    "    \"\"\"\n",
    "    fig, (ax1, ax2, ax3) = plt.subplots(1, 3, figsize=(15, 5))\n",
    "    plt.suptitle(f\"Suspected confounder: {confounder}\")\n",
    "\n",
    "    sns.barplot(df, x=x, y=y, ax=ax1, estimator=\"median\", palette=\"Set2\")\n",
    "    ax1.set_title(f\"Without the confounder\")\n",
    "\n",
    "    sns.barplot(\n",
    "        df, x=x, y=y, hue=confounder, ax=ax2, estimator=\"median\", palette=\"Set2\"\n",
    "    )\n",
    "    ax2.set_title(f\"Hue-ed by {confounder}\")\n",
    "\n",
    "    sns.barplot(\n",
    "        df, x=confounder, y=y, hue=x, ax=ax3, estimator=\"median\", palette=\"Set2\"\n",
    "    )\n",
    "    ax3.set_title(f\"{confounder} hue-ed by {x}\")\n",
    "    plt.show()"
   ]
  },
  {
   "cell_type": "code",
   "execution_count": 26,
   "id": "8ae533ca",
   "metadata": {},
   "outputs": [
    {
     "data": {
      "image/png": "[encoded data removed]",
      "text/plain": [
       "<Figure size 1500x500 with 3 Axes>"
      ]
     },
     "metadata": {},
     "output_type": "display_data"
    },
    {
     "data": {
      "text/plain": [
       "np.float64(0.2972)"
      ]
     },
     "execution_count": 26,
     "metadata": {},
     "output_type": "execute_result"
    }
   ],
   "source": [
    "visualize_confounder(df, \"MarketSize\")\n",
    "find_confounder(df, \"MarketSize\")"
   ]
  },
  {
   "cell_type": "code",
   "execution_count": 27,
   "id": "ca95d8c8",
   "metadata": {},
   "outputs": [
    {
     "data": {
      "image/png": "[encoded data removed]",
      "text/plain": [
       "<Figure size 1500x500 with 3 Axes>"
      ]
     },
     "metadata": {},
     "output_type": "display_data"
    },
    {
     "data": {
      "text/plain": [
       "np.float64(0.1438)"
      ]
     },
     "execution_count": 27,
     "metadata": {},
     "output_type": "execute_result"
    }
   ],
   "source": [
    "visualize_confounder(df, \"store_age\")\n",
    "find_confounder(df, \"store_age\")"
   ]
  },
  {
   "cell_type": "code",
   "execution_count": 28,
   "id": "f0db7630",
   "metadata": {},
   "outputs": [
    {
     "data": {
      "image/png": "[encoded data removed]",
      "text/plain": [
       "<Figure size 1500x500 with 3 Axes>"
      ]
     },
     "metadata": {},
     "output_type": "display_data"
    },
    {
     "data": {
      "text/plain": [
       "np.float64(1.0)"
      ]
     },
     "execution_count": 28,
     "metadata": {},
     "output_type": "execute_result"
    }
   ],
   "source": [
    "visualize_confounder(df, \"week\")\n",
    "find_confounder(df, \"week\")"
   ]
  },
  {
   "cell_type": "markdown",
   "id": "82bd6b9d",
   "metadata": {},
   "source": [
    "From the visual results, we can see that all of the figures using the confounder as a hue, and those using promotion as a hue to the confounder, show pretty consistent results. \n",
    "\n",
    "Without any noticeable visual discrepancies, I turned to the fisher exact test's pvalues and all of them are above the significance level of 5%. Therefore, there is no actual confounders in the dataset that would affect the general promotion strategy ranking."
   ]
  },
  {
   "cell_type": "markdown",
   "id": "d3a66325",
   "metadata": {},
   "source": [
    "# Conclusions & Summary\n",
    "\n",
    "### Overview\n",
    "This analysis evaluated the effectiveness of three different marketing campaigns for a new menu item at a fast-food chain. The study used A/B testing methodology with sales data collected across multiple store locations over four weeks.\n",
    "\n",
    "### Key Findings\n",
    "\n",
    "1. **Campaign Performance**\n",
    "    - Promotion Strategy 1 demonstrated the highest sales performance\n",
    "    - Promotion Strategy 3 showed moderate sales results\n",
    "    - Promotion Strategy 2 had the lowest sales impact\n",
    "\n",
    "2. **Statistical Validation**\n",
    "    - Analysis used non-parametric tests (Kruskal-Wallis and Kolmogorov-Smirnov)\n",
    "    - Results showed statistically significant differences between all three promotions\n",
    "    - Data integrity was confirmed through balanced sampling across promotions\n",
    "\n",
    "3. **Environmental Factors**\n",
    "    - No significant impact from:\n",
    "      - Market size variations\n",
    "      - Store age differences\n",
    "      - Timing of promotions (weeks)\n",
    "    - Results were consistent across different store conditions\n",
    "\n",
    "### Recommendation\n",
    "Based on clear statistical evidence, Promotion Strategy 1 is recommended for implementing the new menu item launch, as it consistently delivered superior sales performance across all market conditions."
   ]
  }
 ],
 "metadata": {
  "kernelspec": {
   "display_name": ".venv",
   "language": "python",
   "name": "python3"
  },
  "language_info": {
   "codemirror_mode": {
    "name": "ipython",
    "version": 3
   },
   "file_extension": ".py",
   "mimetype": "text/x-python",
   "name": "python",
   "nbconvert_exporter": "python",
   "pygments_lexer": "ipython3",
   "version": "3.12.3"
  }
 },
 "nbformat": 4,
 "nbformat_minor": 5
}
